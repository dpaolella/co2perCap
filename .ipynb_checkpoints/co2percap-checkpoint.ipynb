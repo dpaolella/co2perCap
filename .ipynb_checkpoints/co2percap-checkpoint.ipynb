{
 "cells": [
  {
   "cell_type": "markdown",
   "metadata": {},
   "source": [
    "### Investigating the Importance of Low-carbon Growth in Sub-Saharan Africa"
   ]
  },
  {
   "cell_type": "markdown",
   "metadata": {},
   "source": [
    "Different trajectories for economic and population growth in developing countries potentially have a very large impact on the climate budget. Currently (based on 2014 World Bank data), the US, China, and Europe combined account for 62% of global annual emissions but only 34% of global population. If the remainder of the world, especially sub-Saharan African countries, increase their per capita carbon emissions even modestly as a result of pursuing economic growth, the increase in total carbon emissions could be catastrophic. \n",
    "\n",
    "This notebook briefly explores the effect on global emissions if sub-Saharan African countries were to increase per capita carbon emissions by even a modest amount (to levels similar to those of Egypt or developing countries on other continents). The analysis suggests that investment in low-carbon development in sub-Saharan African countries is critical if their populations and economies continue to grow.  "
   ]
  },
  {
   "cell_type": "code",
   "execution_count": 2,
   "metadata": {
    "collapsed": true
   },
   "outputs": [],
   "source": [
    "import pandas as pd\n",
    "import seaborn as sns\n",
    "import geopandas as gpd\n",
    "import folium\n",
    "import requests\n",
    "import io\n",
    "import pysal as ps\n",
    "from IPython.core.display import display, HTML\n",
    "from IPython.display import IFrame"
   ]
  },
  {
   "cell_type": "code",
   "execution_count": 3,
   "metadata": {
    "collapsed": true
   },
   "outputs": [],
   "source": [
    "# Get CO2 emissions & population data by country\n",
    "# https://data.worldbank.org/indicator/EN.ATM.CO2E.PC?view=map\n",
    "emis = pd.read_csv('API_EN.ATM.CO2E.KT_DS2_en_csv_v2.csv', skiprows=2, header=1) # units: kt\n",
    "# emis = pd.read_csv('API_EN.ATM.GHGT.KT.CE_DS2_en_csv_v2.csv', skiprows=2, header=1) # units: kt of CO2 equivalent\n",
    "pop = pd.read_csv('API_SP.POP.TOTL_DS2_en_csv_v2.csv', skiprows=2, header=1) # units: millions\n",
    "emisPerCap = pd.read_csv('API_EN.ATM.CO2E.PC_DS2_en_csv_v2.csv', skiprows=2, header=1) # metric tons per capita"
   ]
  },
  {
   "cell_type": "code",
   "execution_count": 4,
   "metadata": {
    "collapsed": true
   },
   "outputs": [],
   "source": [
    "# Get Country to Continent Crosswalk\n",
    "url = 'https://raw.githubusercontent.com/zelima/country-continents/master/data/country-continents.csv'\n",
    "urlData = requests.get(url).content\n",
    "country2continent = pd.read_csv(io.StringIO(urlData.decode('utf-8')), keep_default_na=False)"
   ]
  },
  {
   "cell_type": "code",
   "execution_count": 5,
   "metadata": {
    "collapsed": true
   },
   "outputs": [],
   "source": [
    "years = [str(i+1960) for i in range(2014-1960+1)]"
   ]
  },
  {
   "cell_type": "code",
   "execution_count": 6,
   "metadata": {
    "collapsed": true
   },
   "outputs": [],
   "source": [
    "emis = pd.melt(emis, id_vars=['Country Name'], value_vars=years)\n",
    "pop = pd.melt(pop, id_vars=['Country Name'], value_vars=years)\n",
    "emisPerCap = pd.melt(emisPerCap, id_vars=['Country Name'], value_vars=years)"
   ]
  },
  {
   "cell_type": "code",
   "execution_count": 7,
   "metadata": {
    "collapsed": true
   },
   "outputs": [],
   "source": [
    "emisPop = emis.merge(pop, on=['Country Name', 'variable'], how='inner')\n",
    "# Replace with common names\n",
    "emisPop = emisPop.replace({'Russian Federation':'Russia', \n",
    "                          'Iran, Islamic Rep.':'Iran',\n",
    "                          'Egypt, Arab Rep.':'Egypt', \n",
    "                          'Syrian Arab Republic':'Syria', \n",
    "                          'Congo, Dem. Rep.':'Democratic Republic of the Congo', \n",
    "                          'Venezuela, RB':'Venezuela', \n",
    "                          'Korea, Rep.':'South Korea', \n",
    "                          \"Korea, Dem. People's Rep.\":'North Korea', \n",
    "                          'Korea, Rep.':'South Korea', \n",
    "                          'Slovak Republic':'Slovakia',\n",
    "                          'Yemen, Rep.': 'Yemen',\n",
    "                          'Lao PDR': 'Laos',\n",
    "                          'Kyrgyz Republic': 'Kyrgyzstan',\n",
    "                          'Congo, Rep.': 'Republic of the Congo',\n",
    "                          \"Cote d'Ivoire\": 'Ivory Coast'})\n",
    "emisPop = emisPop.merge(country2continent, left_on='Country Name', right_on='Country')"
   ]
  },
  {
   "cell_type": "code",
   "execution_count": 8,
   "metadata": {
    "collapsed": true
   },
   "outputs": [],
   "source": [
    "emisPop.rename(columns={'Country Name': 'country', 'variable': 'year', \n",
    "                        'value_x':'co2', 'value_y':'pop', 'Continent': 'continent'}, inplace=True)\n",
    "emisPop.drop('Country', axis=1, inplace=True)\n",
    "# Convert from kt to metric tons\n",
    "emisPop['co2'] = emisPop['co2']*1000\n",
    "emisPop['co2perCap'] = emisPop['co2']/emisPop['pop']\n",
    "emisPop = emisPop.loc[emisPop.co2perCap.notnull()]"
   ]
  },
  {
   "cell_type": "markdown",
   "metadata": {},
   "source": [
    "#### Which continent has the lowest per capita CO2 emissions?"
   ]
  },
  {
   "cell_type": "code",
   "execution_count": 9,
   "metadata": {
    "collapsed": true
   },
   "outputs": [],
   "source": [
    "# Recalculate CO2 per capita at the continent level\n",
    "emisByCont = emisPop.groupby(by=['continent', 'year']).sum()\n",
    "emisByCont.reset_index(inplace=True)\n",
    "emisByCont['co2perCap'] = emisByCont['co2']/emisByCont['pop']"
   ]
  },
  {
   "cell_type": "code",
   "execution_count": 10,
   "metadata": {
    "scrolled": true
   },
   "outputs": [
    {
     "data": {
      "text/html": [
       "<div>\n",
       "<style>\n",
       "    .dataframe thead tr:only-child th {\n",
       "        text-align: right;\n",
       "    }\n",
       "\n",
       "    .dataframe thead th {\n",
       "        text-align: left;\n",
       "    }\n",
       "\n",
       "    .dataframe tbody tr th {\n",
       "        vertical-align: top;\n",
       "    }\n",
       "</style>\n",
       "<table border=\"1\" class=\"dataframe\">\n",
       "  <thead>\n",
       "    <tr style=\"text-align: right;\">\n",
       "      <th></th>\n",
       "      <th>continent</th>\n",
       "      <th>year</th>\n",
       "      <th>co2</th>\n",
       "      <th>pop</th>\n",
       "      <th>co2perCap</th>\n",
       "    </tr>\n",
       "  </thead>\n",
       "  <tbody>\n",
       "    <tr>\n",
       "      <th>54</th>\n",
       "      <td>AF</td>\n",
       "      <td>2014</td>\n",
       "      <td>1.308411e+09</td>\n",
       "      <td>1.154939e+09</td>\n",
       "      <td>1.132884</td>\n",
       "    </tr>\n",
       "    <tr>\n",
       "      <th>329</th>\n",
       "      <td>SA</td>\n",
       "      <td>2014</td>\n",
       "      <td>1.228232e+09</td>\n",
       "      <td>4.120608e+08</td>\n",
       "      <td>2.980706</td>\n",
       "    </tr>\n",
       "    <tr>\n",
       "      <th>109</th>\n",
       "      <td>AS</td>\n",
       "      <td>2014</td>\n",
       "      <td>1.894219e+10</td>\n",
       "      <td>4.284612e+09</td>\n",
       "      <td>4.420982</td>\n",
       "    </tr>\n",
       "    <tr>\n",
       "      <th>164</th>\n",
       "      <td>EU</td>\n",
       "      <td>2014</td>\n",
       "      <td>5.397296e+09</td>\n",
       "      <td>7.383398e+08</td>\n",
       "      <td>7.310044</td>\n",
       "    </tr>\n",
       "    <tr>\n",
       "      <th>274</th>\n",
       "      <td>OC</td>\n",
       "      <td>2014</td>\n",
       "      <td>4.096662e+08</td>\n",
       "      <td>3.849511e+07</td>\n",
       "      <td>10.642034</td>\n",
       "    </tr>\n",
       "    <tr>\n",
       "      <th>219</th>\n",
       "      <td>NA</td>\n",
       "      <td>2014</td>\n",
       "      <td>6.451624e+09</td>\n",
       "      <td>5.620705e+08</td>\n",
       "      <td>11.478318</td>\n",
       "    </tr>\n",
       "  </tbody>\n",
       "</table>\n",
       "</div>"
      ],
      "text/plain": [
       "    continent  year           co2           pop  co2perCap\n",
       "54         AF  2014  1.308411e+09  1.154939e+09   1.132884\n",
       "329        SA  2014  1.228232e+09  4.120608e+08   2.980706\n",
       "109        AS  2014  1.894219e+10  4.284612e+09   4.420982\n",
       "164        EU  2014  5.397296e+09  7.383398e+08   7.310044\n",
       "274        OC  2014  4.096662e+08  3.849511e+07  10.642034\n",
       "219        NA  2014  6.451624e+09  5.620705e+08  11.478318"
      ]
     },
     "execution_count": 10,
     "metadata": {},
     "output_type": "execute_result"
    }
   ],
   "source": [
    "emisByCont.loc[emisByCont['year']=='2014'].sort_values('co2perCap')"
   ]
  },
  {
   "cell_type": "markdown",
   "metadata": {},
   "source": [
    "#### Which countries are the top emitters of CO2 in total?"
   ]
  },
  {
   "cell_type": "code",
   "execution_count": 39,
   "metadata": {},
   "outputs": [
    {
     "data": {
      "text/html": [
       "<div>\n",
       "<style>\n",
       "    .dataframe thead tr:only-child th {\n",
       "        text-align: right;\n",
       "    }\n",
       "\n",
       "    .dataframe thead th {\n",
       "        text-align: left;\n",
       "    }\n",
       "\n",
       "    .dataframe tbody tr th {\n",
       "        vertical-align: top;\n",
       "    }\n",
       "</style>\n",
       "<table border=\"1\" class=\"dataframe\">\n",
       "  <thead>\n",
       "    <tr style=\"text-align: right;\">\n",
       "      <th></th>\n",
       "      <th>country</th>\n",
       "      <th>year</th>\n",
       "      <th>co2</th>\n",
       "      <th>pop</th>\n",
       "      <th>continent</th>\n",
       "      <th>co2perCap</th>\n",
       "      <th>lessThan1</th>\n",
       "    </tr>\n",
       "  </thead>\n",
       "  <tbody>\n",
       "    <tr>\n",
       "      <th>1869</th>\n",
       "      <td>China</td>\n",
       "      <td>2014</td>\n",
       "      <td>1.029193e+10</td>\n",
       "      <td>1.364270e+09</td>\n",
       "      <td>AS</td>\n",
       "      <td>7.543908</td>\n",
       "      <td>False</td>\n",
       "    </tr>\n",
       "    <tr>\n",
       "      <th>10339</th>\n",
       "      <td>United States</td>\n",
       "      <td>2014</td>\n",
       "      <td>5.254279e+09</td>\n",
       "      <td>3.185635e+08</td>\n",
       "      <td>NA</td>\n",
       "      <td>16.493666</td>\n",
       "      <td>False</td>\n",
       "    </tr>\n",
       "    <tr>\n",
       "      <th>4564</th>\n",
       "      <td>India</td>\n",
       "      <td>2014</td>\n",
       "      <td>2.238377e+09</td>\n",
       "      <td>1.293859e+09</td>\n",
       "      <td>AS</td>\n",
       "      <td>1.730000</td>\n",
       "      <td>False</td>\n",
       "    </tr>\n",
       "    <tr>\n",
       "      <th>8359</th>\n",
       "      <td>Russia</td>\n",
       "      <td>2014</td>\n",
       "      <td>1.705346e+09</td>\n",
       "      <td>1.438197e+08</td>\n",
       "      <td>EU</td>\n",
       "      <td>11.857528</td>\n",
       "      <td>False</td>\n",
       "    </tr>\n",
       "    <tr>\n",
       "      <th>5059</th>\n",
       "      <td>Japan</td>\n",
       "      <td>2014</td>\n",
       "      <td>1.214048e+09</td>\n",
       "      <td>1.272760e+08</td>\n",
       "      <td>AS</td>\n",
       "      <td>9.538706</td>\n",
       "      <td>False</td>\n",
       "    </tr>\n",
       "  </tbody>\n",
       "</table>\n",
       "</div>"
      ],
      "text/plain": [
       "             country  year           co2           pop continent  co2perCap  \\\n",
       "1869           China  2014  1.029193e+10  1.364270e+09        AS   7.543908   \n",
       "10339  United States  2014  5.254279e+09  3.185635e+08        NA  16.493666   \n",
       "4564           India  2014  2.238377e+09  1.293859e+09        AS   1.730000   \n",
       "8359          Russia  2014  1.705346e+09  1.438197e+08        EU  11.857528   \n",
       "5059           Japan  2014  1.214048e+09  1.272760e+08        AS   9.538706   \n",
       "\n",
       "       lessThan1  \n",
       "1869       False  \n",
       "10339      False  \n",
       "4564       False  \n",
       "8359       False  \n",
       "5059       False  "
      ]
     },
     "execution_count": 39,
     "metadata": {},
     "output_type": "execute_result"
    }
   ],
   "source": [
    "emisPop.loc[(emisPop['year']=='2014')].sort_values('co2', ascending=False).head()"
   ]
  },
  {
   "cell_type": "markdown",
   "metadata": {},
   "source": [
    "#### Ratio of CO2 emissions and population in the United States, China, and Europe to global CO2 emissions and population "
   ]
  },
  {
   "cell_type": "code",
   "execution_count": 58,
   "metadata": {},
   "outputs": [],
   "source": [
    "US_China_EU = emisPop.loc[(emisPop['year']=='2014') & \n",
    "                           (emisPop['country'].isin(['United States', 'China']))][['co2', 'pop']].sum() + \\\n",
    "                               emisByCont.loc[(emisByCont['year']=='2014') & \n",
    "                                              (emisByCont['continent']=='EU')][['co2', 'pop']].sum()\n",
    "world = emisPop.loc[emisPop['year']=='2014'][['co2', 'pop']].sum()"
   ]
  },
  {
   "cell_type": "markdown",
   "metadata": {},
   "source": [
    "The US, China, and Europe combined account for 62% of global annual emissions but *only 34%* of global population."
   ]
  },
  {
   "cell_type": "code",
   "execution_count": 59,
   "metadata": {},
   "outputs": [
    {
     "data": {
      "text/plain": [
       "co2    0.620780\n",
       "pop    0.336718\n",
       "dtype: float64"
      ]
     },
     "execution_count": 59,
     "metadata": {},
     "output_type": "execute_result"
    }
   ],
   "source": [
    "US_China_EU / world"
   ]
  },
  {
   "cell_type": "markdown",
   "metadata": {},
   "source": [
    "#### How many countries in Africa have annual per capita CO2 emissions below 1 metric ton?"
   ]
  },
  {
   "cell_type": "code",
   "execution_count": 11,
   "metadata": {
    "collapsed": true
   },
   "outputs": [],
   "source": [
    "emisPop['lessThan1'] = emisPop['co2perCap'] < 1\n",
    "lessThan1 = emisPop.loc[(emisPop['continent']=='AF') & \n",
    "                        (emisPop['year'] == '2014')].groupby('lessThan1')['pop'].agg(['sum','count'])\n",
    "lessThan1['pctTotPop'] = lessThan1['sum'] / lessThan1['sum'].sum()"
   ]
  },
  {
   "cell_type": "markdown",
   "metadata": {},
   "source": [
    "37 countries accounting for 76% of the population in Africa have annual per capita CO2 emissions below 1 metric ton."
   ]
  },
  {
   "cell_type": "code",
   "execution_count": 12,
   "metadata": {},
   "outputs": [
    {
     "data": {
      "text/html": [
       "<div>\n",
       "<style>\n",
       "    .dataframe thead tr:only-child th {\n",
       "        text-align: right;\n",
       "    }\n",
       "\n",
       "    .dataframe thead th {\n",
       "        text-align: left;\n",
       "    }\n",
       "\n",
       "    .dataframe tbody tr th {\n",
       "        vertical-align: top;\n",
       "    }\n",
       "</style>\n",
       "<table border=\"1\" class=\"dataframe\">\n",
       "  <thead>\n",
       "    <tr style=\"text-align: right;\">\n",
       "      <th></th>\n",
       "      <th>sum</th>\n",
       "      <th>count</th>\n",
       "      <th>pctTotPop</th>\n",
       "    </tr>\n",
       "    <tr>\n",
       "      <th>lessThan1</th>\n",
       "      <th></th>\n",
       "      <th></th>\n",
       "      <th></th>\n",
       "    </tr>\n",
       "  </thead>\n",
       "  <tbody>\n",
       "    <tr>\n",
       "      <th>False</th>\n",
       "      <td>2.747020e+08</td>\n",
       "      <td>14</td>\n",
       "      <td>0.23785</td>\n",
       "    </tr>\n",
       "    <tr>\n",
       "      <th>True</th>\n",
       "      <td>8.802369e+08</td>\n",
       "      <td>37</td>\n",
       "      <td>0.76215</td>\n",
       "    </tr>\n",
       "  </tbody>\n",
       "</table>\n",
       "</div>"
      ],
      "text/plain": [
       "                    sum  count  pctTotPop\n",
       "lessThan1                                \n",
       "False      2.747020e+08     14    0.23785\n",
       "True       8.802369e+08     37    0.76215"
      ]
     },
     "execution_count": 12,
     "metadata": {},
     "output_type": "execute_result"
    }
   ],
   "source": [
    "lessThan1"
   ]
  },
  {
   "attachments": {},
   "cell_type": "markdown",
   "metadata": {},
   "source": [
    "#### Estimating the effect of an emissions growth scenario in Africa\n",
    "\n",
    "How will CO2 emissions in Africa change if all countries with per capita emissions under 1 metric ton increased emissions to 2 metric tons per capita? Annual CO2 emissions of 2 metric tons would be roughly equivalent to the emissions level of Egypt."
   ]
  },
  {
   "cell_type": "code",
   "execution_count": 24,
   "metadata": {
    "collapsed": true
   },
   "outputs": [],
   "source": [
    "lessThan1_pre = emisPop.loc[(emisPop.lessThan1 == True) & (emisPop.continent == 'AF') & (emisPop.year == '2014')]['co2'].sum()\n",
    "lessThan1_post = emisPop.loc[(emisPop.lessThan1 == True) & (emisPop.continent == 'AF') & (emisPop.year == '2014')]['pop'].sum()*2"
   ]
  },
  {
   "cell_type": "code",
   "execution_count": 25,
   "metadata": {
    "collapsed": true
   },
   "outputs": [],
   "source": [
    "restOfAF = emisPop.loc[(emisPop.lessThan1 == False) & (emisPop.continent == 'AF') & (emisPop.year == '2014')]['co2'].sum()\n",
    "allOfAF = emisPop.loc[(emisPop.continent == 'AF') & (emisPop.year == '2014')]['co2'].sum()"
   ]
  },
  {
   "cell_type": "markdown",
   "metadata": {},
   "source": [
    "Emissions in sub-Saharan Africa would increase by *over 500%*."
   ]
  },
  {
   "cell_type": "code",
   "execution_count": 27,
   "metadata": {
    "scrolled": true
   },
   "outputs": [
    {
     "data": {
      "text/plain": [
       "5.709791627481168"
      ]
     },
     "execution_count": 27,
     "metadata": {},
     "output_type": "execute_result"
    }
   ],
   "source": [
    "(lessThan1_post - lessThan1_pre) / lessThan1_pre"
   ]
  },
  {
   "cell_type": "markdown",
   "metadata": {},
   "source": [
    "Emissions in Africa overall would *more than double*."
   ]
  },
  {
   "cell_type": "code",
   "execution_count": 22,
   "metadata": {},
   "outputs": [
    {
     "data": {
      "text/plain": [
       "1.1449763904471537"
      ]
     },
     "execution_count": 22,
     "metadata": {},
     "output_type": "execute_result"
    }
   ],
   "source": [
    "((restOfAF + lessThan1_post) - allOfAF) / allOfAF"
   ]
  },
  {
   "cell_type": "markdown",
   "metadata": {},
   "source": [
    "#### Create map of CO2 emissions per capita"
   ]
  },
  {
   "cell_type": "code",
   "execution_count": 240,
   "metadata": {
    "collapsed": true
   },
   "outputs": [],
   "source": [
    "# Import countries shapefile\n",
    "fp = 'shapefiles/ne_110m_admin_0_countries.shp'\n",
    "data = gpd.read_file(fp)\n",
    "# Replace with common names\n",
    "data = data.replace({'Czechia': 'Czech Republic',\n",
    "                             'Republic of Serbia': 'Serbia',\n",
    "                             'Somoliland': 'Somalia'})\n",
    "\n",
    "data = data.merge(emisPop.loc[emisPop['year'] == '2014'], how='inner', left_on='SUBUNIT', right_on='country', indicator=True)\n",
    "\n",
    "co2Map = folium.Map(location=[30, 0], zoom_start=2)"
   ]
  },
  {
   "cell_type": "code",
   "execution_count": 241,
   "metadata": {
    "collapsed": true
   },
   "outputs": [],
   "source": [
    "def add_choropleth(mapobj, gdf, id_field, value_field, fill_color = 'YlOrRd', fill_opacity = 0.6, \n",
    "                    line_opacity = 0.2, num_classes = 6, classifier = 'Fisher_Jenks'):\n",
    "    #Allow for 3 Pysal map classifiers to display data\n",
    "    #Generate list of breakpoints using specified classification scheme. List of breakpoint will be input to choropleth function\n",
    "    if classifier == 'Fisher_Jenks':\n",
    "        threshold_scale=ps.esda.mapclassify.Fisher_Jenks(gdf[value_field], k = num_classes).bins.tolist()\n",
    "    if classifier == 'Equal_Interval':\n",
    "        threshold_scale=ps.esda.mapclassify.Equal_Interval(gdf[value_field], k = num_classes).bins.tolist()\n",
    "    if classifier == 'Quantiles':\n",
    "        threshold_scale=ps.esda.mapclassify.Quantiles(gdf[value_field], k = num_classes).bins.tolist()\n",
    "    \n",
    "    #Convert the GeoDataFrame to WGS84 coordinate reference system\n",
    "    gdf_wgs84 = gdf.to_crs({'init': 'epsg:4326'})\n",
    "    \n",
    "    #Call Folium choropleth function, specifying the geometry as a the WGS84 dataframe converted to GeoJSON, the data as \n",
    "    #the GeoDataFrame, the columns as the user-specified id field and and value field.\n",
    "    #key_on field refers to the id field within the GeoJSON string\n",
    "    mapobj.choropleth(geo_str = gdf_wgs84.to_json(), data = gdf,\n",
    "                columns = [id_field, value_field], key_on = 'feature.properties.{}'.format(id_field),\n",
    "                fill_color = fill_color, fill_opacity = fill_opacity, line_opacity = line_opacity,  \n",
    "                threshold_scale = threshold_scale)\n",
    "    return mapobj"
   ]
  },
  {
   "attachments": {},
   "cell_type": "markdown",
   "metadata": {},
   "source": [
    "The map shows that countries with per capita CO2 emissions between 0-1 metric tons are primarily located in sub-Saharan Africa. This region has both an opportunity and necessity for low-carbon growth, especially with some of the highest population growth rates in the world."
   ]
  },
  {
   "cell_type": "code",
   "execution_count": 242,
   "metadata": {},
   "outputs": [
    {
     "data": {
      "text/html": [
       "\n",
       "        <iframe\n",
       "            width=\"1000\"\n",
       "            height=\"450\"\n",
       "            src=\"co2Map.html\"\n",
       "            frameborder=\"0\"\n",
       "            allowfullscreen\n",
       "        ></iframe>\n",
       "        "
      ],
      "text/plain": [
       "<IPython.lib.display.IFrame at 0x12465ff60>"
      ]
     },
     "execution_count": 242,
     "metadata": {},
     "output_type": "execute_result"
    }
   ],
   "source": [
    "co2Map = add_choropleth(co2Map, data, 'country','co2perCap', classifier='Quantiles')\n",
    "co2Map.save('co2Map.html')\n",
    "IFrame(\"co2Map.html\", width=1000, height=450)"
   ]
  }
 ],
 "metadata": {
  "kernelspec": {
   "display_name": "Python 3",
   "language": "python",
   "name": "python3"
  },
  "language_info": {
   "codemirror_mode": {
    "name": "ipython",
    "version": 3
   },
   "file_extension": ".py",
   "mimetype": "text/x-python",
   "name": "python",
   "nbconvert_exporter": "python",
   "pygments_lexer": "ipython3",
   "version": "3.5.2"
  }
 },
 "nbformat": 4,
 "nbformat_minor": 2
}
